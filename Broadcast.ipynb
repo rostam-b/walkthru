{
 "cells": [
  {
   "cell_type": "markdown",
   "id": "6b196c93-846e-4c15-a585-292520f308d5",
   "metadata": {},
   "source": [
    " ## play with jhubs"
   ]
  },
  {
   "cell_type": "markdown",
   "id": "7d028ac4-c098-4dc3-9cbc-faf23afe464d",
   "metadata": {},
   "source": [
    "how summation works: '1+1'"
   ]
  },
  {
   "cell_type": "code",
   "execution_count": 1,
   "id": "2f75a63d-b725-40d2-b1bd-ce04f7f0ea84",
   "metadata": {},
   "outputs": [],
   "source": [
    "import numpy as np"
   ]
  },
  {
   "cell_type": "code",
   "execution_count": 2,
   "id": "b4fbb17d-ae47-4a6d-b5b8-9fbfab3a3665",
   "metadata": {},
   "outputs": [],
   "source": [
    "a = np.array([1,2,3])\n",
    "b = np.array([[1,2,3]])"
   ]
  },
  {
   "cell_type": "code",
   "execution_count": 3,
   "id": "c10ac27e-112a-48e7-8839-9c9d1a291680",
   "metadata": {},
   "outputs": [
    {
     "data": {
      "text/plain": [
       "array([[1, 4, 9]])"
      ]
     },
     "execution_count": 3,
     "metadata": {},
     "output_type": "execute_result"
    }
   ],
   "source": [
    "a * b"
   ]
  },
  {
   "cell_type": "code",
   "execution_count": null,
   "id": "f20ded8e-e5fb-4160-a481-386eea626c1f",
   "metadata": {},
   "outputs": [],
   "source": []
  }
 ],
 "metadata": {
  "kernelspec": {
   "display_name": "Python 3 (ipykernel)",
   "language": "python",
   "name": "python3"
  },
  "language_info": {
   "codemirror_mode": {
    "name": "ipython",
    "version": 3
   },
   "file_extension": ".py",
   "mimetype": "text/x-python",
   "name": "python",
   "nbconvert_exporter": "python",
   "pygments_lexer": "ipython3",
   "version": "3.10.6"
  }
 },
 "nbformat": 4,
 "nbformat_minor": 5
}
